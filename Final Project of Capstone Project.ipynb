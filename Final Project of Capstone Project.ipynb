{
    "cells": [
        {
            "metadata": {
                "collapsed": true
            },
            "cell_type": "markdown",
            "source": "# Final Project of Capstone Project"
        },
        {
            "metadata": {},
            "cell_type": "markdown",
            "source": "## Project Name: Recommending the best location for opening new restaurants in Tokyo now"
        },
        {
            "metadata": {},
            "cell_type": "markdown",
            "source": "## Introduction/Business Problem section"
        },
        {
            "metadata": {},
            "cell_type": "markdown",
            "source": "### Introduction:\n#### I would like to give an recommendations for who want to open new restaurant in Tokyo.\n#### Targeted cities are Shinjulu city, Shibuya city, Chiyoda city and Minato city.\n#### I am Japanese so I know those cities are the biggest and busiest in Japan.\n#### For most of who do not know what are the cities, Shinjuku city is a typical city for office workers  and there are so many companies, Shibuya is young and energetic city and there are tech or venture\n#### companies, Chiyoda city is a traditional city and most of bureaucrats and politicians work there and Minato city is entertaining city and great places for young people. \n#### First, I would like to compare and in the end if it is possible, I want to give an recommendation of almost exactly where they should open by geographical and statistical data.\n#### For this project, I will consider about this situation which was happened by Covid19.\n#### As I know many of restaurant owners quit from their bussiness or hesitate to open new restaurants, because they do not want to make clusters of Covid19. \n#### I consider about that and would like to give real recommendations.\n#### As our instructer wrote that data science problems always target an audience and are meant to help a group of stakeholders solve a problem, I want to give useful advices to them.\n### Business Problem:\n#### Business problem of new restaurant owners in this situation is we cannot use old theories or ways for runnnig new restaurants as before.\n#### People prefer or want to take meals to go now.\n#### However, even if we take meals to go, still we want to eat them in  somewhere has huge space such as parks.\n#### I am going to think about this new factors for running restaurants by using  foursquare data."
        },
        {
            "metadata": {},
            "cell_type": "markdown",
            "source": "## Data section"
        },
        {
            "metadata": {},
            "cell_type": "markdown",
            "source": "### Data section:\n#### As I mentioned in Introduction/Business Problem section, resaurants are required to provide service of take out in this siutation.\n#### If I think it simply they should open restaurants in where close to parks. \n#### Therefore first, I will use foursquare for finding numbers of parks of Shinjulu city, Shibuya city, Chiyoda city and Minato city.\n#### Also I need to find out how many restaurants in each city.\n#### If there are too many restaurants already, I should not recommend because those existed reaurants more likely have already provide service of take out.\n#### I am going to obtain data about parks and restaurants from mainly foursquare unless I need additional information.\n#### After collecting data, I would try to use methods that I learned in this course and find out more about this project."
        },
        {
            "metadata": {},
            "cell_type": "code",
            "source": "",
            "execution_count": null,
            "outputs": []
        }
    ],
    "metadata": {
        "kernelspec": {
            "name": "python3",
            "display_name": "Python 3.6",
            "language": "python"
        },
        "language_info": {
            "name": "python",
            "version": "3.6.9",
            "mimetype": "text/x-python",
            "codemirror_mode": {
                "name": "ipython",
                "version": 3
            },
            "pygments_lexer": "ipython3",
            "nbconvert_exporter": "python",
            "file_extension": ".py"
        }
    },
    "nbformat": 4,
    "nbformat_minor": 1
}